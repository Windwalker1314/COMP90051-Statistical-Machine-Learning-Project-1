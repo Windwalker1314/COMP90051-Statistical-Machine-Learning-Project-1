{
  "nbformat": 4,
  "nbformat_minor": 0,
  "metadata": {
    "colab": {
      "name": "GCN+LSTM.ipynb",
      "provenance": [],
      "collapsed_sections": []
    },
    "kernelspec": {
      "name": "python3",
      "display_name": "Python 3"
    },
    "language_info": {
      "name": "python"
    },
    "accelerator": "GPU"
  },
  "cells": [
    {
      "cell_type": "code",
      "metadata": {
        "id": "2tb4cBqe2EFb"
      },
      "source": [
        "import pandas as pd\n",
        "import numpy as np\n",
        "import torch\n",
        "import torch.nn as nn\n",
        "import torch.optim as optim\n",
        "import torch.nn.functional as F\n",
        "from torch.autograd import Variable\n",
        "from torch.utils.data import Dataset, DataLoader\n",
        "from sklearn.utils import shuffle"
      ],
      "execution_count": 1,
      "outputs": []
    },
    {
      "cell_type": "code",
      "metadata": {
        "id": "zMzR5L022tPz"
      },
      "source": [
        "!pip install -q torch-scatter -f https://pytorch-geometric.com/whl/torch-1.9.0+cu102.html\n",
        "!pip install -q torch-sparse -f https://pytorch-geometric.com/whl/torch-1.9.0+cu102.html\n",
        "!pip install -q git+https://github.com/rusty1s/pytorch_geometric.git"
      ],
      "execution_count": 2,
      "outputs": []
    },
    {
      "cell_type": "code",
      "metadata": {
        "id": "uiowiwejmz_5"
      },
      "source": [
        "gpu=0"
      ],
      "execution_count": 3,
      "outputs": []
    },
    {
      "cell_type": "code",
      "metadata": {
        "id": "EA6rx8cPzTGh",
        "colab": {
          "base_uri": "https://localhost:8080/"
        },
        "outputId": "9e3d2888-7ae3-403a-bc51-faedb95124a9"
      },
      "source": [
        "edge_list = np.array([(4,3),(3,5),(5,6),(6,7),(7,8),(3,9),(9,10),\n",
        "                 (10,11),(11,12),(3,2),(2,1),(1,13),(1,17),\n",
        "                 (13,14),(14,15),(15,16),(17,18),(18,19),\n",
        "                 (19,20)] + [(i,i) for i in range(20)]) - 1\n",
        "l1,l2 = [],[]\n",
        "for i,j in edge_list:\n",
        "    l1.append(i)\n",
        "    l1.append(j)\n",
        "    l2.append(j)\n",
        "    l2.append(i)\n",
        "\n",
        "edge_index = torch.tensor([l1,l2], dtype=torch.long)\n",
        "if gpu is not None:\n",
        "    edge_index = edge_index.cuda(gpu)\n",
        "print(edge_index.size())"
      ],
      "execution_count": 29,
      "outputs": [
        {
          "output_type": "stream",
          "text": [
            "torch.Size([2, 78])\n"
          ],
          "name": "stdout"
        }
      ]
    },
    {
      "cell_type": "code",
      "metadata": {
        "id": "HVInjE-b-ym_"
      },
      "source": [
        "from torch_geometric.nn import GCNConv\n",
        "class gcn(nn.Module):\n",
        "    def __init__(self, in_C, out_C):\n",
        "        super(gcn,self).__init__()\n",
        "        self.in_C = in_C\n",
        "        self.bn = nn.BatchNorm1d(in_C)\n",
        "        self.conv1 = GCNConv(in_C, out_C)\n",
        "        self.conv2 = GCNConv(out_C, out_C)\n",
        "        self.conv3 = GCNConv(out_C, out_C)\n",
        "        self.conv4 = GCNConv(out_C, out_C)\n",
        "        self.conv5 = GCNConv(out_C, out_C)\n",
        "    def forward(self, x, edges):\n",
        "        # input  N  V  C_in\n",
        "        # output N  V*C_out\n",
        "        # Batch normalization\n",
        "        N, V, C = x.size()\n",
        "        x = x.permute(0,2,1).contiguous().view(N,C,V)\n",
        "        x = self.bn(x)\n",
        "        x = x.permute(0,2,1).contiguous().view(N, V, C)\n",
        "\n",
        "        # Graph convolution with residual\n",
        "        x = self.conv1(x, edges)\n",
        "        x = F.relu(x)\n",
        "        residual = x\n",
        "\n",
        "        x = self.conv2(x, edges)\n",
        "        x = F.relu(x)\n",
        "        x = self.conv3(x, edges)\n",
        "        x = F.relu(x)\n",
        "        x = x + residual\n",
        "        residual = x\n",
        "\n",
        "        x = self.conv4(x, edges)\n",
        "        x = F.relu(x)\n",
        "        x = self.conv5(x, edges)\n",
        "        x = F.relu(x)\n",
        "        x = x + residual\n",
        "        \n",
        "        N, V, C = x.size()\n",
        "        x = x.view(N, V*C).contiguous()\n",
        "        return x\n",
        "\n",
        "class gcn_LSTM(nn.Module):\n",
        "    def __init__(self, gcn_in_C, n_classes,  gcn_out_C=32, lstm_C=128, lstm_n_layer=2, T=16, V=20):\n",
        "        super(gcn_LSTM, self).__init__()\n",
        "        # input N, T, V, C\n",
        "        # outpu N, n_classes\n",
        "        self.T = T\n",
        "        self.V = V\n",
        "        self.gcn_layers=nn.ModuleList([gcn(gcn_in_C, gcn_out_C) for i in range(T)])\n",
        "        self.lstm1 = nn.LSTM(gcn_out_C*V, lstm_C, lstm_n_layer, batch_first=True)\n",
        "        self.classifier = nn.Linear(lstm_C, n_classes)\n",
        "    def forward(self, x, edges):\n",
        "        N, T, V, C = x.size()\n",
        "        assert V==self.V\n",
        "        assert T==self.T\n",
        "\n",
        "        output = torch.tensor([])\n",
        "        if gpu is not None:\n",
        "            output = output.cuda(gpu)\n",
        "        for i in range(T):\n",
        "            output_t = self.gcn_layers[i](x[:, i, :, :],edges)\n",
        "            output_t = output_t.unsqueeze(1)\n",
        "            if gpu is not None:\n",
        "                output_t = output_t.cuda(gpu)\n",
        "            output = torch.cat((output, output_t ), 1)\n",
        "        output, (ht,ct)= self.lstm1(output)\n",
        "\n",
        "        output = self.classifier(ht[-1])\n",
        "        output = F.softmax(output, dim=1)\n",
        "        return output\n"
      ],
      "execution_count": 33,
      "outputs": []
    },
    {
      "cell_type": "code",
      "metadata": {
        "id": "sbJtPT3M-X3E"
      },
      "source": [
        "class GCNDataset(Dataset):\n",
        "    def __init__(self,filename,hasLabel=True):\n",
        "        self.df = pd.read_csv(filename,header=None)\n",
        "        self.length = len(self.df)\n",
        "        if hasLabel:\n",
        "            #self.df['freq']=1./self.df.groupby(961)[961].transform('count')\n",
        "            #self.df = self.df.sample(frac=1,weights=self.df.freq).reset_index(drop=True)\n",
        "            self.df = self.df.sample(frac=1).reset_index(drop=True)\n",
        "            self.X = torch.tensor(self.df.iloc[:,1:-1].values.astype('float32'))\n",
        "            # N, C, V, T\n",
        "            #self.X = self.X.reshape((self.length ,16, 20, 3)).permute(0,3,2,1).contiguous()\n",
        "            # N, T, V, C\n",
        "            self.X = self.X.reshape((self.length ,16, 20, 3)).contiguous()\n",
        "            labels = self.df.iloc[:,-1].values.astype('int32')-1\n",
        "            self.Y = np.zeros((labels.size, labels.max()+1))\n",
        "            self.Y[np.arange(labels.size),labels] = 1\n",
        "        else:\n",
        "            self.X = torch.tensor(self.df.iloc[:,1:].values.astype('float32'))\n",
        "            self.X = self.X.reshape((self.length ,16, 20, 3)).permute(0,3,2,1).contiguous()\n",
        "            self.Y = np.zeros((self.length,49))\n",
        "    \n",
        "    def __len__(self):\n",
        "        return len(self.df)\n",
        "    \n",
        "    def __getitem__(self,index):\n",
        "        x = self.X[index]\n",
        "        y = self.Y[index]\n",
        "        return x, y "
      ],
      "execution_count": 6,
      "outputs": []
    },
    {
      "cell_type": "code",
      "metadata": {
        "id": "vpoViM0N-eiq"
      },
      "source": [
        "root_path = \"drive/MyDrive/SML/\"\n",
        "bs = 16\n",
        "train_set = GCNDataset(filename=root_path+\"training_set.csv\")\n",
        "val_set = GCNDataset(filename=root_path+\"val_set.csv\")\n",
        "test_set = GCNDataset(filename=root_path+\"test.csv\",hasLabel=False)\n",
        "train_loader = DataLoader(train_set,batch_size=bs)\n",
        "val_loader = DataLoader(val_set,batch_size=bs)\n",
        "test_loader = DataLoader(test_set,batch_size=bs)"
      ],
      "execution_count": 10,
      "outputs": []
    },
    {
      "cell_type": "code",
      "metadata": {
        "id": "4sQjwjOp-mUA",
        "colab": {
          "base_uri": "https://localhost:8080/"
        },
        "outputId": "2a76e190-23c8-44b3-a073-2fb077d234ca"
      },
      "source": [
        "net = gcn_LSTM(3,49)\n",
        "#net.load_state_dict(torch.load(root_path+'gcn_LSTM_best.pkl'))\n",
        "\n",
        "gpu = 0 #gpu ID\n",
        "net.cuda(gpu)\n",
        "print()\n",
        "\n",
        "criterion = nn.BCEWithLogitsLoss()\n",
        "opti = optim.Adam(net.parameters(), lr = 0.0005)\n",
        "#opti.load_state_dict(torch.load(root_path+'gcn_LSTM_best_optim.pkl'))"
      ],
      "execution_count": 34,
      "outputs": [
        {
          "output_type": "stream",
          "text": [
            "\n"
          ],
          "name": "stdout"
        }
      ]
    },
    {
      "cell_type": "code",
      "metadata": {
        "colab": {
          "base_uri": "https://localhost:8080/"
        },
        "id": "Ykzds-iq0o86",
        "outputId": "d20b74f1-69f0-4366-d37e-5691f87fd120"
      },
      "source": [
        "def accuracy(logit,target):\n",
        "    a=(torch.argmax(logit,dim=1)==torch.argmax(target,dim=1)).sum()\n",
        "    return a\n",
        "\n",
        "def evaluate(model, criterion, dataloader, gpu):\n",
        "    model.eval()\n",
        "    acc = 0\n",
        "    count = 0\n",
        "    with torch.no_grad():\n",
        "        for i,(x,y) in enumerate(dataloader):\n",
        "            x,y = x.cuda(gpu), y.cuda(gpu)\n",
        "            logits = model(x, edge_index)\n",
        "            acc+= accuracy(logits, y)\n",
        "            count += bs\n",
        "\n",
        "    return acc / count\n",
        "\n",
        "def train():\n",
        "    best_acc=0.41\n",
        "    best_epoch = 0\n",
        "    for epoch in range(200):\n",
        "        total = 0\n",
        "        correct = 0\n",
        "        for i, (x,y) in enumerate(train_loader):\n",
        "            net.train()\n",
        "            opti.zero_grad()\n",
        "            x,y=x.cuda(gpu),y.cuda(gpu)\n",
        "            opti.zero_grad()\n",
        "            logit = net(x,edge_index)\n",
        "            loss = criterion(logit,y)\n",
        "            loss.backward()\n",
        "            opti.step()\n",
        "            correct+=accuracy(logit,y)\n",
        "            total+=bs\n",
        "\n",
        "        dev_acc = evaluate(net, criterion, val_loader, gpu)\n",
        "        if dev_acc>best_acc+0.003:\n",
        "            best_acc=dev_acc\n",
        "            torch.save(net.state_dict(), root_path+'gcn_LSTM_best.pkl')\n",
        "            torch.save(opti.state_dict(), root_path+\"gcn_LSTM_best_optim.pkl\")\n",
        "        print(\"epoch\",epoch,\"train acc:\",round(float(correct/total),5),\"dev_acc:\",round(float(dev_acc),5))\n",
        "train()"
      ],
      "execution_count": null,
      "outputs": [
        {
          "output_type": "stream",
          "text": [
            "epoch 0 train acc: 0.18271 dev_acc: 0.22193\n",
            "epoch 1 train acc: 0.2391 dev_acc: 0.26377\n",
            "epoch 2 train acc: 0.26742 dev_acc: 0.27225\n",
            "epoch 3 train acc: 0.28431 dev_acc: 0.28019\n",
            "epoch 4 train acc: 0.30479 dev_acc: 0.2786\n",
            "epoch 5 train acc: 0.31782 dev_acc: 0.28814\n",
            "epoch 6 train acc: 0.33152 dev_acc: 0.30403\n",
            "epoch 7 train acc: 0.34721 dev_acc: 0.30879\n",
            "epoch 8 train acc: 0.35957 dev_acc: 0.31515\n",
            "epoch 9 train acc: 0.38697 dev_acc: 0.33475\n",
            "epoch 10 train acc: 0.40253 dev_acc: 0.3411\n",
            "epoch 11 train acc: 0.41503 dev_acc: 0.33581\n",
            "epoch 12 train acc: 0.4238 dev_acc: 0.3554\n",
            "epoch 13 train acc: 0.44043 dev_acc: 0.35275\n",
            "epoch 14 train acc: 0.44694 dev_acc: 0.34746\n",
            "epoch 15 train acc: 0.45798 dev_acc: 0.34481\n",
            "epoch 16 train acc: 0.46782 dev_acc: 0.35275\n",
            "epoch 17 train acc: 0.47766 dev_acc: 0.36494\n",
            "epoch 18 train acc: 0.48511 dev_acc: 0.35858\n",
            "epoch 19 train acc: 0.49176 dev_acc: 0.36706\n",
            "epoch 20 train acc: 0.50545 dev_acc: 0.37235\n",
            "epoch 21 train acc: 0.5121 dev_acc: 0.36017\n",
            "epoch 22 train acc: 0.51835 dev_acc: 0.37076\n"
          ],
          "name": "stdout"
        }
      ]
    },
    {
      "cell_type": "code",
      "metadata": {
        "colab": {
          "base_uri": "https://localhost:8080/"
        },
        "id": "6gpzsCDTvro6",
        "outputId": "0fee7b30-4685-48b4-da9e-f0bba2e647f4"
      },
      "source": [
        "round(float(torch.tensor(7.1)),4)"
      ],
      "execution_count": 43,
      "outputs": [
        {
          "output_type": "execute_result",
          "data": {
            "text/plain": [
              "7.1"
            ]
          },
          "metadata": {},
          "execution_count": 43
        }
      ]
    },
    {
      "cell_type": "code",
      "metadata": {
        "id": "PDSLV8bB-w7l"
      },
      "source": [
        "def predict(net,dataloader):\n",
        "    net.eval()\n",
        "    predictions = torch.tensor([]).cuda(gpu)\n",
        "    with torch.no_grad():\n",
        "        for i, (x,y) in enumerate(test_loader):\n",
        "            x,y=x.cuda(gpu),y.cuda(gpu)\n",
        "            logit = net(x)\n",
        "            pred = torch.argmax(logit,dim=1)+1\n",
        "            predictions=torch.cat((predictions,pred))\n",
        "    return predictions.cpu().numpy()\n",
        "pred = predict(net,test_loader)\n",
        "print(pred)"
      ],
      "execution_count": null,
      "outputs": []
    },
    {
      "cell_type": "code",
      "metadata": {
        "id": "AOY3AFuK-xAT"
      },
      "source": [
        ""
      ],
      "execution_count": null,
      "outputs": []
    }
  ]
}