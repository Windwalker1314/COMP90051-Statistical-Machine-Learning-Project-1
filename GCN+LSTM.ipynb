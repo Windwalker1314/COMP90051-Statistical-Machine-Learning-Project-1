{
  "nbformat": 4,
  "nbformat_minor": 0,
  "metadata": {
    "colab": {
      "name": "GCN+LSTM.ipynb",
      "provenance": [],
      "collapsed_sections": []
    },
    "kernelspec": {
      "name": "python3",
      "display_name": "Python 3"
    },
    "language_info": {
      "name": "python"
    },
    "accelerator": "GPU"
  },
  "cells": [
    {
      "cell_type": "code",
      "metadata": {
        "id": "2tb4cBqe2EFb"
      },
      "source": [
        "import pandas as pd\n",
        "import numpy as np\n",
        "import torch\n",
        "import torch.nn as nn\n",
        "import torch.optim as optim\n",
        "import torch.nn.functional as F\n",
        "from torch.autograd import Variable\n",
        "from torch.utils.data import Dataset, DataLoader\n",
        "from sklearn.utils import shuffle"
      ],
      "execution_count": 1,
      "outputs": []
    },
    {
      "cell_type": "code",
      "metadata": {
        "id": "zMzR5L022tPz"
      },
      "source": [
        "!pip install -q torch-scatter -f https://pytorch-geometric.com/whl/torch-1.9.0+cu102.html\n",
        "!pip install -q torch-sparse -f https://pytorch-geometric.com/whl/torch-1.9.0+cu102.html\n",
        "!pip install -q git+https://github.com/rusty1s/pytorch_geometric.git"
      ],
      "execution_count": 2,
      "outputs": []
    },
    {
      "cell_type": "code",
      "metadata": {
        "id": "uiowiwejmz_5"
      },
      "source": [
        "gpu=0"
      ],
      "execution_count": 3,
      "outputs": []
    },
    {
      "cell_type": "code",
      "metadata": {
        "id": "EA6rx8cPzTGh",
        "colab": {
          "base_uri": "https://localhost:8080/"
        },
        "outputId": "bf9b6434-2313-494f-dab8-c42f276a9542"
      },
      "source": [
        "edge_list = np.array([(4,3),(3,5),(5,6),(6,7),(7,8),(3,9),(9,10),\n",
        "                 (10,11),(11,12),(3,2),(2,1),(1,13),(1,17),\n",
        "                 (13,14),(14,15),(15,16),(17,18),(18,19),\n",
        "                 (19,20)]) - 1\n",
        "l1,l2 = [],[]\n",
        "for i,j in edge_list:\n",
        "    l1.append(i)\n",
        "    l1.append(j)\n",
        "    l2.append(j)\n",
        "    l2.append(i)\n",
        "\n",
        "edge_index = torch.tensor([l1,l2], dtype=torch.long)\n",
        "if gpu is not None:\n",
        "    edge_index = edge_index.cuda(gpu)\n",
        "print(edge_index.size())"
      ],
      "execution_count": 4,
      "outputs": [
        {
          "output_type": "stream",
          "text": [
            "torch.Size([2, 38])\n"
          ],
          "name": "stdout"
        }
      ]
    },
    {
      "cell_type": "code",
      "metadata": {
        "id": "HVInjE-b-ym_"
      },
      "source": [
        "from torch_geometric.nn import GCNConv\n",
        "class gcn(nn.Module):\n",
        "    def __init__(self, in_C, out_C):\n",
        "        super(gcn,self).__init__()\n",
        "        self.in_C = in_C\n",
        "        self.bn = nn.BatchNorm1d(in_C)\n",
        "        self.conv1 = GCNConv(in_C, out_C)\n",
        "        self.conv2 = GCNConv(out_C, out_C)\n",
        "        self.conv3 = GCNConv(out_C, out_C)\n",
        "    def forward(self, x, edges):\n",
        "        # input  N  V  C_in\n",
        "        # output N  V*C_out\n",
        "        N, V, C = x.size()\n",
        "        x = x.permute(0,2,1).contiguous().view(N,C,V)\n",
        "        x = self.bn(x)\n",
        "        x = x.permute(0,2,1).contiguous().view(N, V, C)\n",
        "\n",
        "        x = self.conv1(x, edges)\n",
        "        x = F.relu(x)\n",
        "        residual = x\n",
        "\n",
        "        x = self.conv2(x, edges)\n",
        "        x = F.relu(x)\n",
        "        x = self.conv3(x, edges)\n",
        "        x = F.relu(x)\n",
        "        x = x + residual\n",
        "        N, V, C = x.size()\n",
        "        x = x.view(N, V*C).contiguous()\n",
        "        return x\n",
        "\n",
        "class gcn_LSTM(nn.Module):\n",
        "    def __init__(self, gcn_in_C, n_classes,  gcn_out_C=64, lstm_C=128, lstm_n_layer=2, T=16, V=20):\n",
        "        super(gcn_LSTM, self).__init__()\n",
        "        # input N, T, V, C\n",
        "        # outpu N, n_classes\n",
        "        self.T = T\n",
        "        self.V = V\n",
        "        self.layers=nn.ModuleList([gcn(gcn_in_C, gcn_out_C) for i in range(T)])\n",
        "        self.lstm = nn.LSTM(gcn_out_C*V, lstm_C, lstm_n_layer, batch_first=True)\n",
        "        self.classifier = nn.Linear(lstm_C, n_classes)\n",
        "    def forward(self, x, edges):\n",
        "        N, T, V, C = x.size()\n",
        "        assert V==self.V\n",
        "        assert T==self.T\n",
        "        output = torch.tensor([])\n",
        "        if gpu is not None:\n",
        "            output = output.cuda(gpu)\n",
        "        for i in range(T):\n",
        "            output_t = self.layers[i](x[:, i, :, :],edges)\n",
        "            output_t = output_t.unsqueeze(1)\n",
        "            if gpu is not None:\n",
        "                output_t = output_t.cuda(gpu)\n",
        "            output = torch.cat((output, output_t ), 1)\n",
        "        output, (ht,ct)= self.lstm(output)\n",
        "\n",
        "        output = self.classifier(ht[-1])\n",
        "        output = F.softmax(output, dim=1)\n",
        "        return output\n"
      ],
      "execution_count": 34,
      "outputs": []
    },
    {
      "cell_type": "code",
      "metadata": {
        "id": "sbJtPT3M-X3E"
      },
      "source": [
        "class GCNDataset(Dataset):\n",
        "    def __init__(self,filename,hasLabel=True):\n",
        "        self.df = pd.read_csv(filename,header=None)\n",
        "        self.length = len(self.df)\n",
        "        if hasLabel:\n",
        "            #self.df['freq']=1./self.df.groupby(961)[961].transform('count')\n",
        "            #self.df = self.df.sample(frac=1,weights=self.df.freq).reset_index(drop=True)\n",
        "            self.df = self.df.sample(frac=1).reset_index(drop=True)\n",
        "            self.X = torch.tensor(self.df.iloc[:,1:-1].values.astype('float32'))\n",
        "            # N, C, V, T\n",
        "            #self.X = self.X.reshape((self.length ,16, 20, 3)).permute(0,3,2,1).contiguous()\n",
        "            # N, T, V, C\n",
        "            self.X = self.X.reshape((self.length ,16, 20, 3)).contiguous()\n",
        "            labels = self.df.iloc[:,-1].values.astype('int32')-1\n",
        "            self.Y = np.zeros((labels.size, labels.max()+1))\n",
        "            self.Y[np.arange(labels.size),labels] = 1\n",
        "        else:\n",
        "            self.X = torch.tensor(self.df.iloc[:,1:].values.astype('float32'))\n",
        "            self.X = self.X.reshape((self.length ,16, 20, 3)).permute(0,3,2,1).contiguous()\n",
        "            self.Y = np.zeros((self.length,49))\n",
        "    \n",
        "    def __len__(self):\n",
        "        return len(self.df)\n",
        "    \n",
        "    def __getitem__(self,index):\n",
        "        x = self.X[index]\n",
        "        y = self.Y[index]\n",
        "        return x, y "
      ],
      "execution_count": 23,
      "outputs": []
    },
    {
      "cell_type": "code",
      "metadata": {
        "id": "vpoViM0N-eiq"
      },
      "source": [
        "root_path = \"drive/MyDrive/SML/\"\n",
        "bs = 32\n",
        "train_set = GCNDataset(filename=root_path+\"training_set.csv\")\n",
        "val_set = GCNDataset(filename=root_path+\"val_set.csv\")\n",
        "test_set = GCNDataset(filename=root_path+\"test.csv\",hasLabel=False)\n",
        "train_loader = DataLoader(train_set,batch_size=bs)\n",
        "val_loader = DataLoader(val_set,batch_size=bs)\n",
        "test_loader = DataLoader(test_set,batch_size=bs)"
      ],
      "execution_count": 8,
      "outputs": []
    },
    {
      "cell_type": "code",
      "metadata": {
        "id": "4sQjwjOp-mUA",
        "colab": {
          "base_uri": "https://localhost:8080/"
        },
        "outputId": "3985b1ae-d09a-4c1b-aa23-d1798adc362e"
      },
      "source": [
        "net = gcn_LSTM(3,49)\n",
        "criterion = nn.BCEWithLogitsLoss()\n",
        "opti = optim.Adam(net.parameters(), lr = 2e-5)\n",
        "\n",
        "gpu = 0 #gpu ID\n",
        "net.cuda(gpu)\n",
        "print()"
      ],
      "execution_count": 35,
      "outputs": [
        {
          "output_type": "stream",
          "text": [
            "\n"
          ],
          "name": "stdout"
        }
      ]
    },
    {
      "cell_type": "code",
      "metadata": {
        "colab": {
          "base_uri": "https://localhost:8080/"
        },
        "id": "Ykzds-iq0o86",
        "outputId": "f3e10ede-0920-4ae2-838f-fcb32bfd9b6f"
      },
      "source": [
        "def accuracy(logit,target):\n",
        "    a=(torch.argmax(logit,dim=1)==torch.argmax(target,dim=1)).sum()\n",
        "    return a\n",
        "\n",
        "def evaluate(model, criterion, dataloader, gpu):\n",
        "    model.eval()\n",
        "    acc = 0\n",
        "    count = 0\n",
        "    with torch.no_grad():\n",
        "        for i,(x,y) in enumerate(dataloader):\n",
        "            x,y = x.cuda(gpu), y.cuda(gpu)\n",
        "            logits = model(x, edge_index)\n",
        "            acc+= accuracy(logits, y)\n",
        "            count += 64\n",
        "\n",
        "    return acc / count\n",
        "\n",
        "def train():\n",
        "    best_acc=0.44\n",
        "    best_epoch = 0\n",
        "    for epoch in range(200):\n",
        "        total = 0\n",
        "        correct = 0\n",
        "        for i, (x,y) in enumerate(train_loader):\n",
        "            net.train()\n",
        "            opti.zero_grad()\n",
        "            x,y=x.cuda(gpu),y.cuda(gpu)\n",
        "            opti.zero_grad()\n",
        "            logit = net(x,edge_index)\n",
        "            loss = criterion(logit,y)\n",
        "            loss.backward()\n",
        "            opti.step()\n",
        "            correct+=accuracy(logit,y)\n",
        "            total+=64\n",
        "\n",
        "        dev_acc = evaluate(net, criterion, val_loader, gpu)\n",
        "        if dev_acc>best_acc:\n",
        "            best_acc=dev_acc\n",
        "            torch.save(net.state_dict(), root_path+'gcn_LSTM_best.pkl')\n",
        "            torch.save(opti.state_dict(), root_path+\"gcn_LSTM_best_optim.pkl\")\n",
        "        print(\"epoch\",epoch,\"train acc:\",round(float(correct/total),5),\"dev_acc:\",round(float(dev_acc),5))\n",
        "train()"
      ],
      "execution_count": null,
      "outputs": [
        {
          "output_type": "stream",
          "text": [
            "epoch 0 train acc: 0.25305 dev_acc: 0.25313\n",
            "epoch 1 train acc: 0.25477 dev_acc: 0.25677\n",
            "epoch 2 train acc: 0.25662 dev_acc: 0.25729\n",
            "epoch 3 train acc: 0.25834 dev_acc: 0.25938\n",
            "epoch 4 train acc: 0.26284 dev_acc: 0.25938\n",
            "epoch 5 train acc: 0.26695 dev_acc: 0.25625\n",
            "epoch 6 train acc: 0.27039 dev_acc: 0.25677\n",
            "epoch 7 train acc: 0.27264 dev_acc: 0.26302\n",
            "epoch 8 train acc: 0.27556 dev_acc: 0.26198\n",
            "epoch 9 train acc: 0.27715 dev_acc: 0.26198\n",
            "epoch 10 train acc: 0.28019 dev_acc: 0.26354\n",
            "epoch 11 train acc: 0.28377 dev_acc: 0.26406\n",
            "epoch 12 train acc: 0.28602 dev_acc: 0.26875\n",
            "epoch 13 train acc: 0.28867 dev_acc: 0.27188\n",
            "epoch 14 train acc: 0.29092 dev_acc: 0.27135\n",
            "epoch 15 train acc: 0.29198 dev_acc: 0.27396\n",
            "epoch 16 train acc: 0.29356 dev_acc: 0.27396\n",
            "epoch 17 train acc: 0.29542 dev_acc: 0.27708\n",
            "epoch 18 train acc: 0.2974 dev_acc: 0.27865\n",
            "epoch 19 train acc: 0.29913 dev_acc: 0.28073\n",
            "epoch 20 train acc: 0.30111 dev_acc: 0.27917\n",
            "epoch 21 train acc: 0.30389 dev_acc: 0.28229\n",
            "epoch 22 train acc: 0.30734 dev_acc: 0.28542\n",
            "epoch 23 train acc: 0.31753 dev_acc: 0.29583\n",
            "epoch 24 train acc: 0.32534 dev_acc: 0.29583\n",
            "epoch 25 train acc: 0.32998 dev_acc: 0.29896\n",
            "epoch 26 train acc: 0.33408 dev_acc: 0.30208\n",
            "epoch 27 train acc: 0.33753 dev_acc: 0.30313\n",
            "epoch 28 train acc: 0.3411 dev_acc: 0.3026\n",
            "epoch 29 train acc: 0.34375 dev_acc: 0.30365\n",
            "epoch 30 train acc: 0.34785 dev_acc: 0.30469\n",
            "epoch 31 train acc: 0.34997 dev_acc: 0.30313\n",
            "epoch 32 train acc: 0.35156 dev_acc: 0.30417\n",
            "epoch 33 train acc: 0.35421 dev_acc: 0.30729\n",
            "epoch 34 train acc: 0.35712 dev_acc: 0.30781\n",
            "epoch 35 train acc: 0.35832 dev_acc: 0.30677\n",
            "epoch 36 train acc: 0.36123 dev_acc: 0.30469\n",
            "epoch 37 train acc: 0.36361 dev_acc: 0.3026\n",
            "epoch 38 train acc: 0.36547 dev_acc: 0.30104\n",
            "epoch 39 train acc: 0.36811 dev_acc: 0.29948\n",
            "epoch 40 train acc: 0.3709 dev_acc: 0.30052\n",
            "epoch 41 train acc: 0.37195 dev_acc: 0.29948\n",
            "epoch 42 train acc: 0.37354 dev_acc: 0.29948\n",
            "epoch 43 train acc: 0.3746 dev_acc: 0.3\n",
            "epoch 44 train acc: 0.37606 dev_acc: 0.30104\n",
            "epoch 45 train acc: 0.37778 dev_acc: 0.30156\n",
            "epoch 46 train acc: 0.37977 dev_acc: 0.30156\n",
            "epoch 47 train acc: 0.38109 dev_acc: 0.30208\n",
            "epoch 48 train acc: 0.38228 dev_acc: 0.30208\n",
            "epoch 49 train acc: 0.38506 dev_acc: 0.30208\n",
            "epoch 50 train acc: 0.38718 dev_acc: 0.30469\n",
            "epoch 51 train acc: 0.38943 dev_acc: 0.30625\n",
            "epoch 52 train acc: 0.39195 dev_acc: 0.30625\n",
            "epoch 53 train acc: 0.39261 dev_acc: 0.30573\n",
            "epoch 54 train acc: 0.39499 dev_acc: 0.30625\n",
            "epoch 55 train acc: 0.39619 dev_acc: 0.30625\n",
            "epoch 56 train acc: 0.39778 dev_acc: 0.30729\n",
            "epoch 57 train acc: 0.39936 dev_acc: 0.30729\n",
            "epoch 58 train acc: 0.40175 dev_acc: 0.30625\n",
            "epoch 59 train acc: 0.40162 dev_acc: 0.30729\n",
            "epoch 60 train acc: 0.40281 dev_acc: 0.30781\n",
            "epoch 61 train acc: 0.40479 dev_acc: 0.30729\n",
            "epoch 62 train acc: 0.40612 dev_acc: 0.30885\n",
            "epoch 63 train acc: 0.40757 dev_acc: 0.31094\n",
            "epoch 64 train acc: 0.40943 dev_acc: 0.30938\n",
            "epoch 65 train acc: 0.41102 dev_acc: 0.31146\n",
            "epoch 66 train acc: 0.41208 dev_acc: 0.3125\n",
            "epoch 67 train acc: 0.4138 dev_acc: 0.31458\n",
            "epoch 68 train acc: 0.41486 dev_acc: 0.31667\n",
            "epoch 69 train acc: 0.41578 dev_acc: 0.31667\n",
            "epoch 70 train acc: 0.41764 dev_acc: 0.31823\n",
            "epoch 71 train acc: 0.4183 dev_acc: 0.31979\n",
            "epoch 72 train acc: 0.41962 dev_acc: 0.31979\n",
            "epoch 73 train acc: 0.42214 dev_acc: 0.32083\n",
            "epoch 74 train acc: 0.42399 dev_acc: 0.31927\n",
            "epoch 75 train acc: 0.42333 dev_acc: 0.32135\n",
            "epoch 76 train acc: 0.42466 dev_acc: 0.32292\n"
          ],
          "name": "stdout"
        }
      ]
    },
    {
      "cell_type": "code",
      "metadata": {
        "colab": {
          "base_uri": "https://localhost:8080/"
        },
        "id": "6gpzsCDTvro6",
        "outputId": "0fee7b30-4685-48b4-da9e-f0bba2e647f4"
      },
      "source": [
        "round(float(torch.tensor(7.1)),4)"
      ],
      "execution_count": 43,
      "outputs": [
        {
          "output_type": "execute_result",
          "data": {
            "text/plain": [
              "7.1"
            ]
          },
          "metadata": {},
          "execution_count": 43
        }
      ]
    },
    {
      "cell_type": "code",
      "metadata": {
        "id": "PDSLV8bB-w7l"
      },
      "source": [
        "def predict(net,dataloader):\n",
        "    net.eval()\n",
        "    predictions = torch.tensor([]).cuda(gpu)\n",
        "    with torch.no_grad():\n",
        "        for i, (x,y) in enumerate(test_loader):\n",
        "            x,y=x.cuda(gpu),y.cuda(gpu)\n",
        "            logit = net(x)\n",
        "            pred = torch.argmax(logit,dim=1)+1\n",
        "            predictions=torch.cat((predictions,pred))\n",
        "    return predictions.cpu().numpy()\n",
        "pred = predict(net,test_loader)\n",
        "print(pred)"
      ],
      "execution_count": null,
      "outputs": []
    },
    {
      "cell_type": "code",
      "metadata": {
        "id": "AOY3AFuK-xAT"
      },
      "source": [
        ""
      ],
      "execution_count": null,
      "outputs": []
    }
  ]
}